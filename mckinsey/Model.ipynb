{
 "cells": [
  {
   "cell_type": "code",
   "execution_count": 1,
   "metadata": {},
   "outputs": [],
   "source": [
    "import numpy as np\n",
    "import pandas as pd\n",
    "import datatable as dt\n",
    "import time\n",
    "pd.set_option('display.max_rows', 500)\n",
    "pd.set_option('display.max_columns', 500)\n",
    "pd.set_option('display.width', 1000)\n",
    "\n",
    "import seaborn as sns\n",
    "from matplotlib import pyplot as plt\n",
    "plt.style.use('seaborn')\n",
    "\n",
    "from sklearn import preprocessing\n",
    "from sklearn import pipeline\n",
    "from sklearn.pipeline import *\n",
    "from sklearn import model_selection\n",
    "from sklearn.model_selection import GridSearchCV\n",
    "from sklearn.preprocessing import StandardScaler\n",
    "from sklearn import *\n",
    "import sklearn\n",
    "from sklearn.model_selection import KFold\n",
    "from sklearn.metrics import roc_auc_score\n",
    "from sklearn.base import BaseEstimator, TransformerMixin\n",
    "from catboost import CatBoostClassifier\n",
    "from sklearn.metrics import f1_score\n",
    "from xgboost import XGBClassifier\n",
    "\n",
    "# Encoder\n",
    "import category_encoders\n",
    "from category_encoders.target_encoder import TargetEncoder\n",
    "from category_encoders.one_hot import OneHotEncoder\n",
    "from category_encoders.ordinal import OrdinalEncoder\n",
    "\n",
    "# Home made\n",
    "from cmougan import *"
   ]
  },
  {
   "cell_type": "markdown",
   "metadata": {},
   "source": [
    "Load Data"
   ]
  },
  {
   "cell_type": "code",
   "execution_count": 2,
   "metadata": {},
   "outputs": [],
   "source": [
    "accidents = pd.read_csv('Dataset & booklet/accidents.csv')\n",
    "vehicles = pd.read_csv('Dataset & booklet/vehicles.csv')\n",
    "test = pd.read_csv('Dataset & booklet/test.csv')"
   ]
  },
  {
   "cell_type": "code",
   "execution_count": 3,
   "metadata": {},
   "outputs": [
    {
     "name": "stderr",
     "output_type": "stream",
     "text": [
      "/Users/cmougan/anaconda3/lib/python3.6/site-packages/IPython/core/interactiveshell.py:3020: DtypeWarning:\n",
      "\n",
      "Columns (25,79,80,81) have mixed types. Specify dtype option on import or set low_memory=False.\n",
      "\n"
     ]
    }
   ],
   "source": [
    "train=pd.read_csv('Dataset & booklet/train_v1.csv')"
   ]
  },
  {
   "cell_type": "markdown",
   "metadata": {},
   "source": [
    "# Validation"
   ]
  },
  {
   "cell_type": "markdown",
   "metadata": {},
   "source": [
    "The goal of time series forecasting is to make accurate predictions about the future.\n",
    "\n",
    "The fast and powerful methods that we rely on in machine learning, such as using train-test splits and k-fold cross validation, do not work in the case of time series data. This is because they ignore the temporal components inherent in the problem."
   ]
  },
  {
   "cell_type": "code",
   "execution_count": 4,
   "metadata": {},
   "outputs": [
    {
     "name": "stdout",
     "output_type": "stream",
     "text": [
      "TRAIN: 19657 TEST: 19657 SUM: 39314\n",
      "TRAIN: 39314 TEST: 19657 SUM: 58971\n",
      "TRAIN: 58971 TEST: 19657 SUM: 78628\n",
      "TRAIN: 78628 TEST: 19657 SUM: 98285\n",
      "TRAIN: 98285 TEST: 19657 SUM: 117942\n",
      "TRAIN: 117942 TEST: 19657 SUM: 137599\n"
     ]
    }
   ],
   "source": [
    "target = train.target\n",
    "train = train.drop(columns=['target'])\n",
    "tscv = sklearn.model_selection.TimeSeriesSplit(n_splits=6)\n",
    "for train_index, test_index in tscv.split(train):\n",
    "        print(\"TRAIN:\", len(train_index), \"TEST:\", len(test_index),\"SUM:\",len(train_index)+len(test_index))\n",
    "        X_tr, X_te = train.iloc[train_index], train.iloc[test_index]\n",
    "        y_tr, y_te = target.iloc[train_index], target.iloc[test_index]\n"
   ]
  },
  {
   "cell_type": "markdown",
   "metadata": {},
   "source": [
    "Categorical columns that we consider that are worth to encode"
   ]
  },
  {
   "cell_type": "code",
   "execution_count": 5,
   "metadata": {},
   "outputs": [],
   "source": [
    "cols_enc =['1st_road_class', '1st_road_number', 'road_type','speed_limit', \n",
    "           'junction_detail', 'junction_control', '2nd_road_class','pedestrian_crossing-human_control', \n",
    "           'pedestrian_crossing-physical_facilities', 'light_conditions', 'weather_conditions', \n",
    "           'road_surface_conditions', 'special_conditions_at_site', 'carriageway_hazards', 'urban_or_rural_area',\n",
    "          'police_force', 'local_authority_district', 'local_authority_highway',\n",
    "          'mode_Vehicle_Type', 'mode_Towing_and_Articulation', 'mode_Vehicle_Manoeuvre', \n",
    "           'mode_Vehicle_Location.Restricted_Lane', 'mode_Junction_Location', 'mode_Skidding_and_Overturning',\n",
    "           'mode_Hit_Object_in_Carriageway', 'mode_Vehicle_Leaving_Carriageway', 'mode_Hit_Object_off_Carriageway',\n",
    "           'mode_X1st_Point_of_Impact', 'mode_Was_Vehicle_Left_Hand_Drive.', 'mode_Journey_Purpose_of_Driver', \n",
    "           'mode_Sex_of_Driver', 'mode_Propulsion_Code','vehicles','impact_points','manoeuvres']"
   ]
  },
  {
   "cell_type": "markdown",
   "metadata": {},
   "source": [
    "## Lasso "
   ]
  },
  {
   "cell_type": "markdown",
   "metadata": {},
   "source": [
    "First we train a simple model to interprete the results and have a baseline. We choose Lasso as it automatically selects relevant features.\n",
    "\n",
    "\n",
    "For Caterogrical Features we use target encoding to transform to numeric."
   ]
  },
  {
   "cell_type": "code",
   "execution_count": 6,
   "metadata": {},
   "outputs": [],
   "source": [
    "target = Encodings(encoding_type=\"TargetEncoder\",columns=cols_enc)\n",
    "woe = Encodings(encoding_type=\"WOEEncoder\",columns=cols_enc)\n",
    "cbe = Encodings(encoding_type=\"CatBoostEncoder\",columns=cols_enc)\n",
    "clf = sklearn.linear_model.LogisticRegression()\n",
    "scaler = StandardScaler()\n",
    "\n",
    "\n",
    "encodings = Pipeline([('target',target),\n",
    "                      #('cbe',cbe)\n",
    "                     ])\n",
    "\n",
    "pipe_clf = Pipeline([\n",
    "    ('encodings',encodings),\n",
    "    ('selector', TypeSelector(np.number)), # Selects Numerical Columns only\n",
    "    ('scaler',scaler),\n",
    "                     \n",
    "                     #('pca',pca),\n",
    "                     #('featgen',featgen),\n",
    "                    ('clf',clf)\n",
    "                   ])\n",
    "\n",
    "pipeline_grid = {\n",
    "   \n",
    "    \"clf__penalty\":['l1','l2'],\n",
    "    \"clf__C\":[0.556,0.8],\n",
    "    #\"clf__class_weight\":[None]\n",
    "\n",
    "        }"
   ]
  },
  {
   "cell_type": "markdown",
   "metadata": {},
   "source": [
    "We search through GridSearch to find optimal parameter via Cross Validation"
   ]
  },
  {
   "cell_type": "code",
   "execution_count": 7,
   "metadata": {},
   "outputs": [],
   "source": [
    "# Execution Hyperparameters\n",
    "n_jobs=-1\n",
    "cv = 3\n",
    "n_max= 25_000\n",
    "pipe_cv = GridSearchCV(pipe_clf, param_grid=pipeline_grid, n_jobs = n_jobs, cv=cv,scoring='f1')"
   ]
  },
  {
   "cell_type": "code",
   "execution_count": 8,
   "metadata": {
    "scrolled": false
   },
   "outputs": [
    {
     "name": "stderr",
     "output_type": "stream",
     "text": [
      "/Users/cmougan/anaconda3/lib/python3.6/site-packages/sklearn/linear_model/logistic.py:432: FutureWarning:\n",
      "\n",
      "Default solver will be changed to 'lbfgs' in 0.22. Specify a solver to silence this warning.\n",
      "\n",
      "/Users/cmougan/anaconda3/lib/python3.6/site-packages/sklearn/linear_model/logistic.py:432: FutureWarning:\n",
      "\n",
      "Default solver will be changed to 'lbfgs' in 0.22. Specify a solver to silence this warning.\n",
      "\n"
     ]
    },
    {
     "name": "stdout",
     "output_type": "stream",
     "text": [
      "CPU times: user 25.2 s, sys: 1.43 s, total: 26.6 s\n",
      "Wall time: 28.5 s\n"
     ]
    }
   ],
   "source": [
    "%%time\n",
    "pipe_cv, pipe_best_estimator_lasso  = fit_cv_subsample(pipe_cv, X_tr, y_tr, n_max = n_max);\n",
    "pipe_best_estimator_lasso.fit(X_tr,y_tr);\n",
    "score_train = f1_score(y_tr,pipe_best_estimator_lasso.predict(X_tr))\n",
    "scorte_test = f1_score(y_te,pipe_best_estimator_lasso.predict(X_te))"
   ]
  },
  {
   "cell_type": "code",
   "execution_count": 9,
   "metadata": {
    "scrolled": true
   },
   "outputs": [
    {
     "name": "stdout",
     "output_type": "stream",
     "text": [
      "78 features, reduction of 0.00%\n"
     ]
    },
    {
     "data": {
      "image/png": "[encoded data removed]",
      "text/plain": [
       "<Figure size 1296x432 with 1 Axes>"
      ]
     },
     "metadata": {},
     "output_type": "display_data"
    }
   ],
   "source": [
    "plot_feature_importance(pipe_best_estimator_lasso[:-2].transform(X_tr).columns,np.array(pipe_best_estimator_lasso.named_steps['clf'].coef_.squeeze()),20)"
   ]
  },
  {
   "cell_type": "markdown",
   "metadata": {},
   "source": [
    "Feature Importance for Lasso Model. This is a good way to provide bussiness insights since it has a good XAI"
   ]
  },
  {
   "cell_type": "markdown",
   "metadata": {},
   "source": [
    "**Optimal cut off to translate to F1 Score**\n",
    "\n",
    "In train set we look for the optimal cutoff by searching the Grid"
   ]
  },
  {
   "cell_type": "code",
   "execution_count": 10,
   "metadata": {
    "scrolled": true
   },
   "outputs": [
    {
     "name": "stdout",
     "output_type": "stream",
     "text": [
      "CPU times: user 12.4 s, sys: 1.68 s, total: 14.1 s\n",
      "Wall time: 10.3 s\n"
     ]
    }
   ],
   "source": [
    "%%time\n",
    "max_f1 = 0\n",
    "for thres in np.linspace(0.1,0.4,5):\n",
    "    pred = pipe_best_estimator_lasso.predict_proba(X_tr)[:,1]>thres\n",
    "    f1 = f1_score(y_tr,pred)\n",
    "    #print(f1)    \n",
    "    if f1 > max_f1:\n",
    "        max_f1=f1\n",
    "        cutoff = thres"
   ]
  },
  {
   "cell_type": "code",
   "execution_count": 11,
   "metadata": {},
   "outputs": [
    {
     "name": "stdout",
     "output_type": "stream",
     "text": [
      "The score of the gradient boosting algorithm in train is 0.4134\n",
      "The score of the gradient boosting algorithm in test is 0.4153\n"
     ]
    }
   ],
   "source": [
    "score_train = f1_score(y_tr,pipe_best_estimator_lasso.predict_proba(X_tr)[:,1]>cutoff)\n",
    "scorte_test = f1_score(y_te,pipe_best_estimator_lasso.predict_proba(X_te)[:,1]>cutoff)\n",
    "\n",
    "print('The score of the gradient boosting algorithm in train is',\n",
    "      np.round((score_train),decimals=4))\n",
    "\n",
    "print('The score of the gradient boosting algorithm in test is',\n",
    "      np.round((scorte_test),decimals=4))"
   ]
  },
  {
   "cell_type": "markdown",
   "metadata": {},
   "source": [
    "There is no overfitting and performance is reasonably high"
   ]
  },
  {
   "cell_type": "markdown",
   "metadata": {},
   "source": [
    "### Catboost\n",
    "https://catboost.ai\n",
    "\n",
    "We try a more complex model to model the dataset and obtain better predictions"
   ]
  },
  {
   "cell_type": "code",
   "execution_count": 16,
   "metadata": {},
   "outputs": [],
   "source": [
    "target = Encodings(encoding_type=\"TargetEncoder\",columns=cols_enc)\n",
    "woe = Encodings(encoding_type=\"WOEEncoder\",columns=cols_enc)\n",
    "cbe = Encodings(encoding_type=\"CatBoostEncoder\",columns=cols_enc)\n",
    "cb = CatBoostClassifier(random_seed=1,iterations=300,)\n",
    "\n",
    "encodings = Pipeline([\n",
    "                     ('te',target),\n",
    "                         ])\n",
    "\n",
    "pipe_cb = Pipeline([ ('encodings',encodings),             # Encoding of Categorical Variables\n",
    "                 ('selector', TypeSelector(np.number)), # Selects Numerical Columns only\n",
    "                    ('cb',cb)\n",
    "                   ])\n",
    "\n",
    "pipeline_grid = {\n",
    "    \n",
    "\n",
    "        }"
   ]
  },
  {
   "cell_type": "code",
   "execution_count": 17,
   "metadata": {},
   "outputs": [],
   "source": [
    "# Execution Hyperparameters\n",
    "n_jobs=-1\n",
    "cv = 3\n",
    "n_max= int(X_tr.shape[0]/10)\n",
    "pipe_cv = GridSearchCV(pipe_cb, param_grid=pipeline_grid, n_jobs = n_jobs, cv=cv,scoring='roc_auc')\n"
   ]
  },
  {
   "cell_type": "code",
   "execution_count": 18,
   "metadata": {
    "scrolled": true
   },
   "outputs": [
    {
     "name": "stdout",
     "output_type": "stream",
     "text": [
      "Learning rate set to 0.098467\n",
      "0:\tlearn: 0.6164153\ttotal: 127ms\tremaining: 37.9s\n",
      "1:\tlearn: 0.5516414\ttotal: 143ms\tremaining: 21.4s\n",
      "2:\tlearn: 0.5049085\ttotal: 162ms\tremaining: 16s\n",
      "3:\tlearn: 0.4662615\ttotal: 186ms\tremaining: 13.8s\n",
      "4:\tlearn: 0.4382347\ttotal: 203ms\tremaining: 12s\n",
      "5:\tlearn: 0.4157514\ttotal: 217ms\tremaining: 10.6s\n",
      "6:\tlearn: 0.3953851\ttotal: 229ms\tremaining: 9.6s\n",
      "7:\tlearn: 0.3817468\ttotal: 242ms\tremaining: 8.82s\n",
      "8:\tlearn: 0.3713650\ttotal: 254ms\tremaining: 8.2s\n",
      "9:\tlearn: 0.3622365\ttotal: 266ms\tremaining: 7.7s\n",
      "10:\tlearn: 0.3531685\ttotal: 278ms\tremaining: 7.29s\n",
      "11:\tlearn: 0.3470185\ttotal: 293ms\tremaining: 7.04s\n",
      "12:\tlearn: 0.3422359\ttotal: 312ms\tremaining: 6.89s\n",
      "13:\tlearn: 0.3376658\ttotal: 330ms\tremaining: 6.75s\n",
      "14:\tlearn: 0.3350393\ttotal: 344ms\tremaining: 6.53s\n",
      "15:\tlearn: 0.3320160\ttotal: 356ms\tremaining: 6.32s\n",
      "16:\tlearn: 0.3298625\ttotal: 368ms\tremaining: 6.12s\n",
      "17:\tlearn: 0.3282748\ttotal: 380ms\tremaining: 5.95s\n",
      "18:\tlearn: 0.3262331\ttotal: 392ms\tremaining: 5.79s\n",
      "19:\tlearn: 0.3244198\ttotal: 407ms\tremaining: 5.7s\n",
      "20:\tlearn: 0.3223331\ttotal: 420ms\tremaining: 5.58s\n",
      "21:\tlearn: 0.3210991\ttotal: 433ms\tremaining: 5.47s\n",
      "22:\tlearn: 0.3196736\ttotal: 445ms\tremaining: 5.36s\n",
      "23:\tlearn: 0.3177657\ttotal: 455ms\tremaining: 5.24s\n",
      "24:\tlearn: 0.3165560\ttotal: 514ms\tremaining: 5.65s\n",
      "25:\tlearn: 0.3152991\ttotal: 536ms\tremaining: 5.65s\n",
      "26:\tlearn: 0.3144232\ttotal: 560ms\tremaining: 5.66s\n",
      "27:\tlearn: 0.3134801\ttotal: 571ms\tremaining: 5.55s\n",
      "28:\tlearn: 0.3117922\ttotal: 584ms\tremaining: 5.46s\n",
      "29:\tlearn: 0.3109964\ttotal: 604ms\tremaining: 5.44s\n",
      "30:\tlearn: 0.3102704\ttotal: 629ms\tremaining: 5.46s\n",
      "31:\tlearn: 0.3093546\ttotal: 657ms\tremaining: 5.5s\n",
      "32:\tlearn: 0.3084948\ttotal: 675ms\tremaining: 5.46s\n",
      "33:\tlearn: 0.3080273\ttotal: 690ms\tremaining: 5.4s\n",
      "34:\tlearn: 0.3073080\ttotal: 706ms\tremaining: 5.35s\n",
      "35:\tlearn: 0.3067061\ttotal: 723ms\tremaining: 5.3s\n",
      "36:\tlearn: 0.3062299\ttotal: 741ms\tremaining: 5.26s\n",
      "37:\tlearn: 0.3056327\ttotal: 765ms\tremaining: 5.27s\n",
      "38:\tlearn: 0.3051008\ttotal: 782ms\tremaining: 5.23s\n",
      "39:\tlearn: 0.3046696\ttotal: 796ms\tremaining: 5.17s\n",
      "40:\tlearn: 0.3041077\ttotal: 809ms\tremaining: 5.11s\n",
      "41:\tlearn: 0.3036348\ttotal: 820ms\tremaining: 5.04s\n",
      "42:\tlearn: 0.3029317\ttotal: 841ms\tremaining: 5.03s\n",
      "43:\tlearn: 0.3022137\ttotal: 861ms\tremaining: 5.01s\n",
      "44:\tlearn: 0.3014511\ttotal: 921ms\tremaining: 5.22s\n",
      "45:\tlearn: 0.3009197\ttotal: 994ms\tremaining: 5.49s\n",
      "46:\tlearn: 0.3004381\ttotal: 1.01s\tremaining: 5.42s\n",
      "47:\tlearn: 0.2998041\ttotal: 1.02s\tremaining: 5.36s\n",
      "48:\tlearn: 0.2991345\ttotal: 1.04s\tremaining: 5.31s\n",
      "49:\tlearn: 0.2986879\ttotal: 1.06s\tremaining: 5.28s\n",
      "50:\tlearn: 0.2984447\ttotal: 1.07s\tremaining: 5.24s\n",
      "51:\tlearn: 0.2978963\ttotal: 1.08s\tremaining: 5.17s\n",
      "52:\tlearn: 0.2972948\ttotal: 1.1s\tremaining: 5.12s\n",
      "53:\tlearn: 0.2967382\ttotal: 1.11s\tremaining: 5.07s\n",
      "54:\tlearn: 0.2964616\ttotal: 1.12s\tremaining: 5.01s\n",
      "55:\tlearn: 0.2960417\ttotal: 1.14s\tremaining: 4.95s\n",
      "56:\tlearn: 0.2956585\ttotal: 1.15s\tremaining: 4.89s\n",
      "57:\tlearn: 0.2954955\ttotal: 1.16s\tremaining: 4.84s\n",
      "58:\tlearn: 0.2951973\ttotal: 1.17s\tremaining: 4.8s\n",
      "59:\tlearn: 0.2948630\ttotal: 1.19s\tremaining: 4.74s\n",
      "60:\tlearn: 0.2944962\ttotal: 1.2s\tremaining: 4.69s\n",
      "61:\tlearn: 0.2939406\ttotal: 1.21s\tremaining: 4.64s\n",
      "62:\tlearn: 0.2935208\ttotal: 1.22s\tremaining: 4.59s\n",
      "63:\tlearn: 0.2933354\ttotal: 1.23s\tremaining: 4.55s\n",
      "64:\tlearn: 0.2930815\ttotal: 1.24s\tremaining: 4.5s\n",
      "65:\tlearn: 0.2923988\ttotal: 1.26s\tremaining: 4.46s\n",
      "66:\tlearn: 0.2919209\ttotal: 1.27s\tremaining: 4.42s\n",
      "67:\tlearn: 0.2915588\ttotal: 1.28s\tremaining: 4.37s\n",
      "68:\tlearn: 0.2912524\ttotal: 1.29s\tremaining: 4.33s\n",
      "69:\tlearn: 0.2908474\ttotal: 1.3s\tremaining: 4.29s\n",
      "70:\tlearn: 0.2905077\ttotal: 1.32s\tremaining: 4.25s\n",
      "71:\tlearn: 0.2902068\ttotal: 1.33s\tremaining: 4.21s\n",
      "72:\tlearn: 0.2896605\ttotal: 1.34s\tremaining: 4.18s\n",
      "73:\tlearn: 0.2894511\ttotal: 1.36s\tremaining: 4.14s\n",
      "74:\tlearn: 0.2891182\ttotal: 1.37s\tremaining: 4.11s\n",
      "75:\tlearn: 0.2887263\ttotal: 1.38s\tremaining: 4.07s\n",
      "76:\tlearn: 0.2882955\ttotal: 1.39s\tremaining: 4.03s\n",
      "77:\tlearn: 0.2880421\ttotal: 1.4s\tremaining: 4s\n",
      "78:\tlearn: 0.2874795\ttotal: 1.42s\tremaining: 3.96s\n",
      "79:\tlearn: 0.2868304\ttotal: 1.43s\tremaining: 3.93s\n",
      "80:\tlearn: 0.2864432\ttotal: 1.44s\tremaining: 3.9s\n",
      "81:\tlearn: 0.2860627\ttotal: 1.46s\tremaining: 3.88s\n",
      "82:\tlearn: 0.2858353\ttotal: 1.47s\tremaining: 3.85s\n",
      "83:\tlearn: 0.2854524\ttotal: 1.49s\tremaining: 3.83s\n",
      "84:\tlearn: 0.2849456\ttotal: 1.5s\tremaining: 3.8s\n",
      "85:\tlearn: 0.2845922\ttotal: 1.51s\tremaining: 3.76s\n",
      "86:\tlearn: 0.2840560\ttotal: 1.53s\tremaining: 3.74s\n",
      "87:\tlearn: 0.2836528\ttotal: 1.54s\tremaining: 3.72s\n",
      "88:\tlearn: 0.2832740\ttotal: 1.56s\tremaining: 3.71s\n",
      "89:\tlearn: 0.2829055\ttotal: 1.58s\tremaining: 3.69s\n",
      "90:\tlearn: 0.2825363\ttotal: 1.59s\tremaining: 3.66s\n",
      "91:\tlearn: 0.2821510\ttotal: 1.61s\tremaining: 3.63s\n",
      "92:\tlearn: 0.2819269\ttotal: 1.62s\tremaining: 3.61s\n",
      "93:\tlearn: 0.2814843\ttotal: 1.64s\tremaining: 3.58s\n",
      "94:\tlearn: 0.2809837\ttotal: 1.65s\tremaining: 3.56s\n",
      "95:\tlearn: 0.2806704\ttotal: 1.66s\tremaining: 3.53s\n",
      "96:\tlearn: 0.2803444\ttotal: 1.67s\tremaining: 3.5s\n",
      "97:\tlearn: 0.2798422\ttotal: 1.68s\tremaining: 3.47s\n",
      "98:\tlearn: 0.2794851\ttotal: 1.7s\tremaining: 3.44s\n",
      "99:\tlearn: 0.2791510\ttotal: 1.71s\tremaining: 3.42s\n",
      "100:\tlearn: 0.2789122\ttotal: 1.72s\tremaining: 3.39s\n",
      "101:\tlearn: 0.2784435\ttotal: 1.74s\tremaining: 3.37s\n",
      "102:\tlearn: 0.2782970\ttotal: 1.75s\tremaining: 3.34s\n",
      "103:\tlearn: 0.2779180\ttotal: 1.76s\tremaining: 3.32s\n",
      "104:\tlearn: 0.2775139\ttotal: 1.77s\tremaining: 3.3s\n",
      "105:\tlearn: 0.2772405\ttotal: 1.79s\tremaining: 3.27s\n",
      "106:\tlearn: 0.2768208\ttotal: 1.8s\tremaining: 3.25s\n",
      "107:\tlearn: 0.2765110\ttotal: 1.81s\tremaining: 3.22s\n",
      "108:\tlearn: 0.2758744\ttotal: 1.83s\tremaining: 3.2s\n",
      "109:\tlearn: 0.2756379\ttotal: 1.84s\tremaining: 3.18s\n",
      "110:\tlearn: 0.2754496\ttotal: 1.85s\tremaining: 3.15s\n",
      "111:\tlearn: 0.2747734\ttotal: 1.87s\tremaining: 3.14s\n",
      "112:\tlearn: 0.2744060\ttotal: 1.88s\tremaining: 3.11s\n",
      "113:\tlearn: 0.2740288\ttotal: 1.9s\tremaining: 3.1s\n",
      "114:\tlearn: 0.2735827\ttotal: 1.91s\tremaining: 3.07s\n",
      "115:\tlearn: 0.2733202\ttotal: 1.93s\tremaining: 3.06s\n",
      "116:\tlearn: 0.2729713\ttotal: 1.94s\tremaining: 3.04s\n",
      "117:\tlearn: 0.2724285\ttotal: 1.96s\tremaining: 3.02s\n",
      "118:\tlearn: 0.2720671\ttotal: 1.97s\tremaining: 2.99s\n",
      "119:\tlearn: 0.2717947\ttotal: 1.98s\tremaining: 2.97s\n",
      "120:\tlearn: 0.2713330\ttotal: 1.99s\tremaining: 2.95s\n",
      "121:\tlearn: 0.2708951\ttotal: 2s\tremaining: 2.92s\n",
      "122:\tlearn: 0.2704485\ttotal: 2.02s\tremaining: 2.9s\n",
      "123:\tlearn: 0.2701398\ttotal: 2.03s\tremaining: 2.88s\n",
      "124:\tlearn: 0.2697004\ttotal: 2.04s\tremaining: 2.86s\n",
      "125:\tlearn: 0.2695212\ttotal: 2.06s\tremaining: 2.84s\n",
      "126:\tlearn: 0.2691035\ttotal: 2.07s\tremaining: 2.82s\n",
      "127:\tlearn: 0.2688277\ttotal: 2.08s\tremaining: 2.79s\n",
      "128:\tlearn: 0.2684090\ttotal: 2.09s\tremaining: 2.77s\n",
      "129:\tlearn: 0.2679189\ttotal: 2.11s\tremaining: 2.75s\n",
      "130:\tlearn: 0.2674222\ttotal: 2.12s\tremaining: 2.73s\n",
      "131:\tlearn: 0.2671471\ttotal: 2.13s\tremaining: 2.71s\n",
      "132:\tlearn: 0.2666766\ttotal: 2.14s\tremaining: 2.69s\n",
      "133:\tlearn: 0.2662763\ttotal: 2.16s\tremaining: 2.67s\n",
      "134:\tlearn: 0.2660142\ttotal: 2.17s\tremaining: 2.65s\n",
      "135:\tlearn: 0.2657066\ttotal: 2.18s\tremaining: 2.63s\n",
      "136:\tlearn: 0.2651502\ttotal: 2.19s\tremaining: 2.61s\n",
      "137:\tlearn: 0.2647636\ttotal: 2.21s\tremaining: 2.6s\n",
      "138:\tlearn: 0.2644251\ttotal: 2.23s\tremaining: 2.58s\n",
      "139:\tlearn: 0.2640206\ttotal: 2.25s\tremaining: 2.57s\n",
      "140:\tlearn: 0.2636638\ttotal: 2.26s\tremaining: 2.55s\n",
      "141:\tlearn: 0.2632452\ttotal: 2.28s\tremaining: 2.54s\n",
      "142:\tlearn: 0.2626960\ttotal: 2.3s\tremaining: 2.53s\n",
      "143:\tlearn: 0.2622423\ttotal: 2.32s\tremaining: 2.51s\n",
      "144:\tlearn: 0.2620320\ttotal: 2.34s\tremaining: 2.5s\n",
      "145:\tlearn: 0.2618058\ttotal: 2.35s\tremaining: 2.48s\n",
      "146:\tlearn: 0.2614924\ttotal: 2.37s\tremaining: 2.47s\n",
      "147:\tlearn: 0.2612432\ttotal: 2.39s\tremaining: 2.45s\n",
      "148:\tlearn: 0.2609986\ttotal: 2.4s\tremaining: 2.44s\n",
      "149:\tlearn: 0.2607665\ttotal: 2.42s\tremaining: 2.42s\n",
      "150:\tlearn: 0.2606137\ttotal: 2.44s\tremaining: 2.4s\n",
      "151:\tlearn: 0.2602452\ttotal: 2.45s\tremaining: 2.39s\n",
      "152:\tlearn: 0.2599448\ttotal: 2.46s\tremaining: 2.37s\n",
      "153:\tlearn: 0.2597053\ttotal: 2.48s\tremaining: 2.35s\n",
      "154:\tlearn: 0.2592746\ttotal: 2.49s\tremaining: 2.33s\n",
      "155:\tlearn: 0.2590478\ttotal: 2.51s\tremaining: 2.31s\n",
      "156:\tlearn: 0.2586791\ttotal: 2.52s\tremaining: 2.29s\n",
      "157:\tlearn: 0.2582351\ttotal: 2.53s\tremaining: 2.28s\n",
      "158:\tlearn: 0.2579422\ttotal: 2.55s\tremaining: 2.26s\n",
      "159:\tlearn: 0.2573720\ttotal: 2.56s\tremaining: 2.24s\n",
      "160:\tlearn: 0.2570900\ttotal: 2.57s\tremaining: 2.22s\n",
      "161:\tlearn: 0.2568024\ttotal: 2.58s\tremaining: 2.2s\n",
      "162:\tlearn: 0.2564127\ttotal: 2.6s\tremaining: 2.18s\n",
      "163:\tlearn: 0.2561161\ttotal: 2.61s\tremaining: 2.16s\n",
      "164:\tlearn: 0.2559228\ttotal: 2.64s\tremaining: 2.16s\n",
      "165:\tlearn: 0.2555346\ttotal: 2.66s\tremaining: 2.15s\n",
      "166:\tlearn: 0.2552449\ttotal: 2.67s\tremaining: 2.13s\n"
     ]
    },
    {
     "name": "stdout",
     "output_type": "stream",
     "text": [
      "167:\tlearn: 0.2549357\ttotal: 2.69s\tremaining: 2.11s\n",
      "168:\tlearn: 0.2544530\ttotal: 2.7s\tremaining: 2.09s\n",
      "169:\tlearn: 0.2542532\ttotal: 2.71s\tremaining: 2.07s\n",
      "170:\tlearn: 0.2539013\ttotal: 2.72s\tremaining: 2.05s\n",
      "171:\tlearn: 0.2534497\ttotal: 2.73s\tremaining: 2.04s\n",
      "172:\tlearn: 0.2530964\ttotal: 2.75s\tremaining: 2.02s\n",
      "173:\tlearn: 0.2529107\ttotal: 2.76s\tremaining: 2s\n",
      "174:\tlearn: 0.2527487\ttotal: 2.77s\tremaining: 1.98s\n",
      "175:\tlearn: 0.2526039\ttotal: 2.78s\tremaining: 1.96s\n",
      "176:\tlearn: 0.2524400\ttotal: 2.79s\tremaining: 1.94s\n",
      "177:\tlearn: 0.2520672\ttotal: 2.8s\tremaining: 1.92s\n",
      "178:\tlearn: 0.2514982\ttotal: 2.81s\tremaining: 1.9s\n",
      "179:\tlearn: 0.2510203\ttotal: 2.83s\tremaining: 1.88s\n",
      "180:\tlearn: 0.2508070\ttotal: 2.84s\tremaining: 1.86s\n",
      "181:\tlearn: 0.2504724\ttotal: 2.85s\tremaining: 1.85s\n",
      "182:\tlearn: 0.2499970\ttotal: 2.86s\tremaining: 1.83s\n",
      "183:\tlearn: 0.2498135\ttotal: 2.87s\tremaining: 1.81s\n",
      "184:\tlearn: 0.2494798\ttotal: 2.89s\tremaining: 1.8s\n",
      "185:\tlearn: 0.2493047\ttotal: 2.91s\tremaining: 1.78s\n",
      "186:\tlearn: 0.2489890\ttotal: 2.92s\tremaining: 1.77s\n",
      "187:\tlearn: 0.2487127\ttotal: 2.94s\tremaining: 1.75s\n",
      "188:\tlearn: 0.2485066\ttotal: 2.96s\tremaining: 1.74s\n",
      "189:\tlearn: 0.2483479\ttotal: 2.98s\tremaining: 1.73s\n",
      "190:\tlearn: 0.2480011\ttotal: 3s\tremaining: 1.71s\n",
      "191:\tlearn: 0.2477375\ttotal: 3.02s\tremaining: 1.7s\n",
      "192:\tlearn: 0.2473900\ttotal: 3.04s\tremaining: 1.68s\n",
      "193:\tlearn: 0.2471030\ttotal: 3.05s\tremaining: 1.67s\n",
      "194:\tlearn: 0.2468690\ttotal: 3.07s\tremaining: 1.65s\n",
      "195:\tlearn: 0.2465075\ttotal: 3.09s\tremaining: 1.64s\n",
      "196:\tlearn: 0.2462026\ttotal: 3.1s\tremaining: 1.62s\n",
      "197:\tlearn: 0.2458994\ttotal: 3.12s\tremaining: 1.6s\n",
      "198:\tlearn: 0.2454820\ttotal: 3.13s\tremaining: 1.59s\n",
      "199:\tlearn: 0.2452462\ttotal: 3.15s\tremaining: 1.57s\n",
      "200:\tlearn: 0.2448640\ttotal: 3.16s\tremaining: 1.56s\n",
      "201:\tlearn: 0.2445536\ttotal: 3.17s\tremaining: 1.54s\n",
      "202:\tlearn: 0.2441240\ttotal: 3.18s\tremaining: 1.52s\n",
      "203:\tlearn: 0.2439878\ttotal: 3.19s\tremaining: 1.5s\n",
      "204:\tlearn: 0.2436878\ttotal: 3.21s\tremaining: 1.49s\n",
      "205:\tlearn: 0.2433164\ttotal: 3.22s\tremaining: 1.47s\n",
      "206:\tlearn: 0.2430942\ttotal: 3.23s\tremaining: 1.45s\n",
      "207:\tlearn: 0.2427865\ttotal: 3.24s\tremaining: 1.43s\n",
      "208:\tlearn: 0.2425174\ttotal: 3.26s\tremaining: 1.42s\n",
      "209:\tlearn: 0.2419901\ttotal: 3.29s\tremaining: 1.41s\n",
      "210:\tlearn: 0.2417274\ttotal: 3.31s\tremaining: 1.4s\n",
      "211:\tlearn: 0.2414095\ttotal: 3.32s\tremaining: 1.38s\n",
      "212:\tlearn: 0.2409908\ttotal: 3.34s\tremaining: 1.36s\n",
      "213:\tlearn: 0.2406402\ttotal: 3.36s\tremaining: 1.35s\n",
      "214:\tlearn: 0.2402696\ttotal: 3.37s\tremaining: 1.33s\n",
      "215:\tlearn: 0.2398796\ttotal: 3.38s\tremaining: 1.31s\n",
      "216:\tlearn: 0.2394308\ttotal: 3.4s\tremaining: 1.3s\n",
      "217:\tlearn: 0.2391576\ttotal: 3.41s\tremaining: 1.28s\n",
      "218:\tlearn: 0.2388837\ttotal: 3.42s\tremaining: 1.27s\n",
      "219:\tlearn: 0.2385680\ttotal: 3.44s\tremaining: 1.25s\n",
      "220:\tlearn: 0.2381308\ttotal: 3.45s\tremaining: 1.23s\n",
      "221:\tlearn: 0.2378307\ttotal: 3.46s\tremaining: 1.22s\n",
      "222:\tlearn: 0.2377046\ttotal: 3.48s\tremaining: 1.2s\n",
      "223:\tlearn: 0.2371541\ttotal: 3.49s\tremaining: 1.19s\n",
      "224:\tlearn: 0.2368979\ttotal: 3.51s\tremaining: 1.17s\n",
      "225:\tlearn: 0.2367198\ttotal: 3.52s\tremaining: 1.15s\n",
      "226:\tlearn: 0.2363250\ttotal: 3.54s\tremaining: 1.14s\n",
      "227:\tlearn: 0.2360875\ttotal: 3.56s\tremaining: 1.12s\n",
      "228:\tlearn: 0.2357151\ttotal: 3.58s\tremaining: 1.11s\n",
      "229:\tlearn: 0.2355901\ttotal: 3.59s\tremaining: 1.09s\n",
      "230:\tlearn: 0.2352388\ttotal: 3.6s\tremaining: 1.07s\n",
      "231:\tlearn: 0.2349581\ttotal: 3.62s\tremaining: 1.06s\n",
      "232:\tlearn: 0.2345089\ttotal: 3.63s\tremaining: 1.04s\n",
      "233:\tlearn: 0.2339555\ttotal: 3.64s\tremaining: 1.03s\n",
      "234:\tlearn: 0.2336792\ttotal: 3.65s\tremaining: 1.01s\n",
      "235:\tlearn: 0.2333728\ttotal: 3.67s\tremaining: 994ms\n",
      "236:\tlearn: 0.2329860\ttotal: 3.68s\tremaining: 978ms\n",
      "237:\tlearn: 0.2326497\ttotal: 3.69s\tremaining: 961ms\n",
      "238:\tlearn: 0.2322445\ttotal: 3.7s\tremaining: 945ms\n",
      "239:\tlearn: 0.2319942\ttotal: 3.71s\tremaining: 929ms\n",
      "240:\tlearn: 0.2317887\ttotal: 3.73s\tremaining: 913ms\n",
      "241:\tlearn: 0.2315094\ttotal: 3.74s\tremaining: 896ms\n",
      "242:\tlearn: 0.2313610\ttotal: 3.75s\tremaining: 880ms\n",
      "243:\tlearn: 0.2312444\ttotal: 3.76s\tremaining: 863ms\n",
      "244:\tlearn: 0.2308117\ttotal: 3.77s\tremaining: 847ms\n",
      "245:\tlearn: 0.2303445\ttotal: 3.79s\tremaining: 831ms\n",
      "246:\tlearn: 0.2302931\ttotal: 3.8s\tremaining: 815ms\n",
      "247:\tlearn: 0.2300265\ttotal: 3.81s\tremaining: 799ms\n",
      "248:\tlearn: 0.2297323\ttotal: 3.82s\tremaining: 783ms\n",
      "249:\tlearn: 0.2292690\ttotal: 3.83s\tremaining: 767ms\n",
      "250:\tlearn: 0.2289212\ttotal: 3.85s\tremaining: 751ms\n",
      "251:\tlearn: 0.2285405\ttotal: 3.86s\tremaining: 735ms\n",
      "252:\tlearn: 0.2280650\ttotal: 3.87s\tremaining: 719ms\n",
      "253:\tlearn: 0.2276157\ttotal: 3.88s\tremaining: 703ms\n",
      "254:\tlearn: 0.2273808\ttotal: 3.89s\tremaining: 687ms\n",
      "255:\tlearn: 0.2270734\ttotal: 3.91s\tremaining: 672ms\n",
      "256:\tlearn: 0.2268751\ttotal: 3.92s\tremaining: 656ms\n",
      "257:\tlearn: 0.2266143\ttotal: 3.93s\tremaining: 640ms\n",
      "258:\tlearn: 0.2263754\ttotal: 3.95s\tremaining: 625ms\n",
      "259:\tlearn: 0.2261739\ttotal: 3.96s\tremaining: 609ms\n",
      "260:\tlearn: 0.2258514\ttotal: 3.97s\tremaining: 593ms\n",
      "261:\tlearn: 0.2256532\ttotal: 3.98s\tremaining: 578ms\n",
      "262:\tlearn: 0.2253458\ttotal: 4s\tremaining: 562ms\n",
      "263:\tlearn: 0.2251178\ttotal: 4.01s\tremaining: 547ms\n",
      "264:\tlearn: 0.2249040\ttotal: 4.02s\tremaining: 531ms\n",
      "265:\tlearn: 0.2247173\ttotal: 4.03s\tremaining: 516ms\n",
      "266:\tlearn: 0.2244569\ttotal: 4.04s\tremaining: 500ms\n",
      "267:\tlearn: 0.2240880\ttotal: 4.06s\tremaining: 485ms\n",
      "268:\tlearn: 0.2237414\ttotal: 4.08s\tremaining: 470ms\n",
      "269:\tlearn: 0.2234514\ttotal: 4.09s\tremaining: 454ms\n",
      "270:\tlearn: 0.2232125\ttotal: 4.1s\tremaining: 439ms\n",
      "271:\tlearn: 0.2228410\ttotal: 4.12s\tremaining: 424ms\n",
      "272:\tlearn: 0.2224920\ttotal: 4.13s\tremaining: 408ms\n",
      "273:\tlearn: 0.2222265\ttotal: 4.14s\tremaining: 393ms\n",
      "274:\tlearn: 0.2220445\ttotal: 4.16s\tremaining: 378ms\n",
      "275:\tlearn: 0.2217624\ttotal: 4.17s\tremaining: 363ms\n",
      "276:\tlearn: 0.2214232\ttotal: 4.18s\tremaining: 347ms\n",
      "277:\tlearn: 0.2211058\ttotal: 4.19s\tremaining: 332ms\n",
      "278:\tlearn: 0.2208047\ttotal: 4.21s\tremaining: 317ms\n",
      "279:\tlearn: 0.2205185\ttotal: 4.22s\tremaining: 301ms\n",
      "280:\tlearn: 0.2203393\ttotal: 4.23s\tremaining: 286ms\n",
      "281:\tlearn: 0.2201287\ttotal: 4.25s\tremaining: 271ms\n",
      "282:\tlearn: 0.2198037\ttotal: 4.26s\tremaining: 256ms\n",
      "283:\tlearn: 0.2194406\ttotal: 4.27s\tremaining: 241ms\n",
      "284:\tlearn: 0.2190994\ttotal: 4.29s\tremaining: 226ms\n",
      "285:\tlearn: 0.2189228\ttotal: 4.3s\tremaining: 211ms\n",
      "286:\tlearn: 0.2186730\ttotal: 4.32s\tremaining: 196ms\n",
      "287:\tlearn: 0.2183596\ttotal: 4.33s\tremaining: 180ms\n",
      "288:\tlearn: 0.2181004\ttotal: 4.34s\tremaining: 165ms\n",
      "289:\tlearn: 0.2178442\ttotal: 4.36s\tremaining: 150ms\n",
      "290:\tlearn: 0.2176453\ttotal: 4.37s\tremaining: 135ms\n",
      "291:\tlearn: 0.2174395\ttotal: 4.38s\tremaining: 120ms\n",
      "292:\tlearn: 0.2171840\ttotal: 4.4s\tremaining: 105ms\n",
      "293:\tlearn: 0.2169254\ttotal: 4.41s\tremaining: 90.1ms\n",
      "294:\tlearn: 0.2165936\ttotal: 4.42s\tremaining: 75ms\n",
      "295:\tlearn: 0.2164489\ttotal: 4.44s\tremaining: 60ms\n",
      "296:\tlearn: 0.2162750\ttotal: 4.45s\tremaining: 45ms\n",
      "297:\tlearn: 0.2159177\ttotal: 4.47s\tremaining: 30ms\n",
      "298:\tlearn: 0.2157527\ttotal: 4.48s\tremaining: 15ms\n",
      "299:\tlearn: 0.2154715\ttotal: 4.49s\tremaining: 0us\n",
      "CPU times: user 12.6 s, sys: 1.56 s, total: 14.2 s\n",
      "Wall time: 23.2 s\n"
     ]
    }
   ],
   "source": [
    "%%time\n",
    "pipe_cv, pipe_best_estimator  = fit_cv_subsample(pipe_cv, X_tr, y_tr, n_max = n_max);"
   ]
  },
  {
   "cell_type": "code",
   "execution_count": 19,
   "metadata": {
    "scrolled": true
   },
   "outputs": [
    {
     "name": "stdout",
     "output_type": "stream",
     "text": [
      "Learning rate set to 0.188926\n",
      "0:\tlearn: 0.5812220\ttotal: 71.1ms\tremaining: 21.3s\n",
      "1:\tlearn: 0.5149349\ttotal: 147ms\tremaining: 21.9s\n",
      "2:\tlearn: 0.4756237\ttotal: 201ms\tremaining: 19.9s\n",
      "3:\tlearn: 0.4474019\ttotal: 249ms\tremaining: 18.4s\n",
      "4:\tlearn: 0.4334356\ttotal: 292ms\tremaining: 17.2s\n",
      "5:\tlearn: 0.4221246\ttotal: 340ms\tremaining: 16.7s\n",
      "6:\tlearn: 0.4157572\ttotal: 387ms\tremaining: 16.2s\n",
      "7:\tlearn: 0.4105265\ttotal: 434ms\tremaining: 15.8s\n",
      "8:\tlearn: 0.4058900\ttotal: 489ms\tremaining: 15.8s\n",
      "9:\tlearn: 0.4028073\ttotal: 550ms\tremaining: 16s\n",
      "10:\tlearn: 0.4008877\ttotal: 601ms\tremaining: 15.8s\n",
      "11:\tlearn: 0.3986267\ttotal: 656ms\tremaining: 15.7s\n",
      "12:\tlearn: 0.3969249\ttotal: 705ms\tremaining: 15.6s\n",
      "13:\tlearn: 0.3959549\ttotal: 751ms\tremaining: 15.3s\n",
      "14:\tlearn: 0.3951078\ttotal: 799ms\tremaining: 15.2s\n",
      "15:\tlearn: 0.3942375\ttotal: 844ms\tremaining: 15s\n",
      "16:\tlearn: 0.3934343\ttotal: 892ms\tremaining: 14.8s\n",
      "17:\tlearn: 0.3928672\ttotal: 940ms\tremaining: 14.7s\n",
      "18:\tlearn: 0.3923818\ttotal: 987ms\tremaining: 14.6s\n",
      "19:\tlearn: 0.3918089\ttotal: 1.03s\tremaining: 14.4s\n",
      "20:\tlearn: 0.3913217\ttotal: 1.08s\tremaining: 14.4s\n",
      "21:\tlearn: 0.3907333\ttotal: 1.14s\tremaining: 14.4s\n",
      "22:\tlearn: 0.3902505\ttotal: 1.19s\tremaining: 14.3s\n",
      "23:\tlearn: 0.3896863\ttotal: 1.23s\tremaining: 14.2s\n",
      "24:\tlearn: 0.3893597\ttotal: 1.37s\tremaining: 15.1s\n",
      "25:\tlearn: 0.3890161\ttotal: 1.49s\tremaining: 15.7s\n",
      "26:\tlearn: 0.3887760\ttotal: 1.61s\tremaining: 16.3s\n",
      "27:\tlearn: 0.3882389\ttotal: 1.67s\tremaining: 16.2s\n",
      "28:\tlearn: 0.3880502\ttotal: 1.72s\tremaining: 16s\n",
      "29:\tlearn: 0.3877147\ttotal: 1.77s\tremaining: 16s\n",
      "30:\tlearn: 0.3874387\ttotal: 1.9s\tremaining: 16.5s\n",
      "31:\tlearn: 0.3872763\ttotal: 1.97s\tremaining: 16.5s\n",
      "32:\tlearn: 0.3870723\ttotal: 2.03s\tremaining: 16.4s\n",
      "33:\tlearn: 0.3868979\ttotal: 2.12s\tremaining: 16.6s\n",
      "34:\tlearn: 0.3865528\ttotal: 2.19s\tremaining: 16.6s\n",
      "35:\tlearn: 0.3863733\ttotal: 2.25s\tremaining: 16.5s\n",
      "36:\tlearn: 0.3862358\ttotal: 2.31s\tremaining: 16.4s\n",
      "37:\tlearn: 0.3860568\ttotal: 2.38s\tremaining: 16.4s\n",
      "38:\tlearn: 0.3855950\ttotal: 2.44s\tremaining: 16.3s\n",
      "39:\tlearn: 0.3854099\ttotal: 2.54s\tremaining: 16.5s\n",
      "40:\tlearn: 0.3852192\ttotal: 2.64s\tremaining: 16.7s\n",
      "41:\tlearn: 0.3851030\ttotal: 2.71s\tremaining: 16.7s\n",
      "42:\tlearn: 0.3849849\ttotal: 2.8s\tremaining: 16.8s\n",
      "43:\tlearn: 0.3848629\ttotal: 2.85s\tremaining: 16.6s\n",
      "44:\tlearn: 0.3846761\ttotal: 2.92s\tremaining: 16.5s\n",
      "45:\tlearn: 0.3844972\ttotal: 2.98s\tremaining: 16.5s\n",
      "46:\tlearn: 0.3844020\ttotal: 3.05s\tremaining: 16.4s\n",
      "47:\tlearn: 0.3842020\ttotal: 3.12s\tremaining: 16.4s\n",
      "48:\tlearn: 0.3838477\ttotal: 3.16s\tremaining: 16.2s\n",
      "49:\tlearn: 0.3837068\ttotal: 3.26s\tremaining: 16.3s\n",
      "50:\tlearn: 0.3835497\ttotal: 3.35s\tremaining: 16.3s\n",
      "51:\tlearn: 0.3833766\ttotal: 3.41s\tremaining: 16.3s\n",
      "52:\tlearn: 0.3832376\ttotal: 3.52s\tremaining: 16.4s\n",
      "53:\tlearn: 0.3830608\ttotal: 3.61s\tremaining: 16.4s\n",
      "54:\tlearn: 0.3829272\ttotal: 3.68s\tremaining: 16.4s\n",
      "55:\tlearn: 0.3827760\ttotal: 3.78s\tremaining: 16.5s\n",
      "56:\tlearn: 0.3825703\ttotal: 3.87s\tremaining: 16.5s\n",
      "57:\tlearn: 0.3824065\ttotal: 3.91s\tremaining: 16.3s\n",
      "58:\tlearn: 0.3822727\ttotal: 3.96s\tremaining: 16.2s\n",
      "59:\tlearn: 0.3821504\ttotal: 4s\tremaining: 16s\n",
      "60:\tlearn: 0.3818075\ttotal: 4.06s\tremaining: 15.9s\n",
      "61:\tlearn: 0.3816721\ttotal: 4.1s\tremaining: 15.8s\n",
      "62:\tlearn: 0.3814836\ttotal: 4.15s\tremaining: 15.6s\n",
      "63:\tlearn: 0.3812744\ttotal: 4.2s\tremaining: 15.5s\n",
      "64:\tlearn: 0.3811433\ttotal: 4.24s\tremaining: 15.3s\n",
      "65:\tlearn: 0.3808617\ttotal: 4.29s\tremaining: 15.2s\n",
      "66:\tlearn: 0.3807431\ttotal: 4.33s\tremaining: 15.1s\n",
      "67:\tlearn: 0.3805863\ttotal: 4.38s\tremaining: 14.9s\n",
      "68:\tlearn: 0.3804190\ttotal: 4.43s\tremaining: 14.8s\n",
      "69:\tlearn: 0.3803111\ttotal: 4.48s\tremaining: 14.7s\n",
      "70:\tlearn: 0.3800998\ttotal: 4.54s\tremaining: 14.7s\n",
      "71:\tlearn: 0.3799891\ttotal: 4.6s\tremaining: 14.6s\n",
      "72:\tlearn: 0.3799035\ttotal: 4.66s\tremaining: 14.5s\n",
      "73:\tlearn: 0.3797775\ttotal: 4.73s\tremaining: 14.4s\n",
      "74:\tlearn: 0.3796664\ttotal: 4.81s\tremaining: 14.4s\n",
      "75:\tlearn: 0.3794662\ttotal: 4.9s\tremaining: 14.5s\n",
      "76:\tlearn: 0.3794011\ttotal: 4.98s\tremaining: 14.4s\n",
      "77:\tlearn: 0.3792362\ttotal: 5.04s\tremaining: 14.3s\n",
      "78:\tlearn: 0.3791031\ttotal: 5.09s\tremaining: 14.2s\n",
      "79:\tlearn: 0.3789662\ttotal: 5.14s\tremaining: 14.1s\n",
      "80:\tlearn: 0.3788102\ttotal: 5.19s\tremaining: 14s\n",
      "81:\tlearn: 0.3787018\ttotal: 5.24s\tremaining: 13.9s\n",
      "82:\tlearn: 0.3786089\ttotal: 5.28s\tremaining: 13.8s\n",
      "83:\tlearn: 0.3784679\ttotal: 5.39s\tremaining: 13.9s\n",
      "84:\tlearn: 0.3783511\ttotal: 5.52s\tremaining: 14s\n",
      "85:\tlearn: 0.3782087\ttotal: 5.64s\tremaining: 14s\n",
      "86:\tlearn: 0.3780053\ttotal: 5.69s\tremaining: 13.9s\n",
      "87:\tlearn: 0.3778799\ttotal: 5.77s\tremaining: 13.9s\n",
      "88:\tlearn: 0.3778071\ttotal: 5.82s\tremaining: 13.8s\n",
      "89:\tlearn: 0.3776546\ttotal: 5.87s\tremaining: 13.7s\n",
      "90:\tlearn: 0.3775714\ttotal: 5.91s\tremaining: 13.6s\n",
      "91:\tlearn: 0.3774275\ttotal: 5.96s\tremaining: 13.5s\n",
      "92:\tlearn: 0.3773178\ttotal: 6.01s\tremaining: 13.4s\n",
      "93:\tlearn: 0.3771477\ttotal: 6.05s\tremaining: 13.3s\n",
      "94:\tlearn: 0.3769753\ttotal: 6.1s\tremaining: 13.2s\n",
      "95:\tlearn: 0.3767957\ttotal: 6.14s\tremaining: 13.1s\n",
      "96:\tlearn: 0.3766348\ttotal: 6.19s\tremaining: 13s\n",
      "97:\tlearn: 0.3764855\ttotal: 6.24s\tremaining: 12.9s\n",
      "98:\tlearn: 0.3763551\ttotal: 6.29s\tremaining: 12.8s\n",
      "99:\tlearn: 0.3762477\ttotal: 6.34s\tremaining: 12.7s\n",
      "100:\tlearn: 0.3760666\ttotal: 6.39s\tremaining: 12.6s\n",
      "101:\tlearn: 0.3759463\ttotal: 6.44s\tremaining: 12.5s\n",
      "102:\tlearn: 0.3758369\ttotal: 6.49s\tremaining: 12.4s\n",
      "103:\tlearn: 0.3757407\ttotal: 6.55s\tremaining: 12.3s\n",
      "104:\tlearn: 0.3756112\ttotal: 6.61s\tremaining: 12.3s\n",
      "105:\tlearn: 0.3754539\ttotal: 6.67s\tremaining: 12.2s\n",
      "106:\tlearn: 0.3753039\ttotal: 6.73s\tremaining: 12.1s\n",
      "107:\tlearn: 0.3751466\ttotal: 6.79s\tremaining: 12.1s\n",
      "108:\tlearn: 0.3750990\ttotal: 6.84s\tremaining: 12s\n",
      "109:\tlearn: 0.3749990\ttotal: 6.98s\tremaining: 12.1s\n",
      "110:\tlearn: 0.3748585\ttotal: 7.05s\tremaining: 12s\n",
      "111:\tlearn: 0.3747414\ttotal: 7.15s\tremaining: 12s\n",
      "112:\tlearn: 0.3746707\ttotal: 7.2s\tremaining: 11.9s\n",
      "113:\tlearn: 0.3746042\ttotal: 7.24s\tremaining: 11.8s\n",
      "114:\tlearn: 0.3744936\ttotal: 7.29s\tremaining: 11.7s\n",
      "115:\tlearn: 0.3743409\ttotal: 7.33s\tremaining: 11.6s\n",
      "116:\tlearn: 0.3741572\ttotal: 7.4s\tremaining: 11.6s\n",
      "117:\tlearn: 0.3740514\ttotal: 7.47s\tremaining: 11.5s\n",
      "118:\tlearn: 0.3739116\ttotal: 7.56s\tremaining: 11.5s\n",
      "119:\tlearn: 0.3737923\ttotal: 7.64s\tremaining: 11.5s\n",
      "120:\tlearn: 0.3736419\ttotal: 7.69s\tremaining: 11.4s\n",
      "121:\tlearn: 0.3735064\ttotal: 7.73s\tremaining: 11.3s\n",
      "122:\tlearn: 0.3734395\ttotal: 7.78s\tremaining: 11.2s\n",
      "123:\tlearn: 0.3733213\ttotal: 7.83s\tremaining: 11.1s\n",
      "124:\tlearn: 0.3731992\ttotal: 7.88s\tremaining: 11s\n",
      "125:\tlearn: 0.3730840\ttotal: 7.92s\tremaining: 10.9s\n",
      "126:\tlearn: 0.3729463\ttotal: 7.96s\tremaining: 10.8s\n",
      "127:\tlearn: 0.3728410\ttotal: 8.01s\tremaining: 10.8s\n",
      "128:\tlearn: 0.3727260\ttotal: 8.08s\tremaining: 10.7s\n",
      "129:\tlearn: 0.3726270\ttotal: 8.14s\tremaining: 10.6s\n",
      "130:\tlearn: 0.3724863\ttotal: 8.2s\tremaining: 10.6s\n",
      "131:\tlearn: 0.3723793\ttotal: 8.25s\tremaining: 10.5s\n",
      "132:\tlearn: 0.3722760\ttotal: 8.31s\tremaining: 10.4s\n",
      "133:\tlearn: 0.3721072\ttotal: 8.36s\tremaining: 10.4s\n",
      "134:\tlearn: 0.3720703\ttotal: 8.4s\tremaining: 10.3s\n",
      "135:\tlearn: 0.3719918\ttotal: 8.44s\tremaining: 10.2s\n",
      "136:\tlearn: 0.3718470\ttotal: 8.49s\tremaining: 10.1s\n",
      "137:\tlearn: 0.3717326\ttotal: 8.53s\tremaining: 10s\n",
      "138:\tlearn: 0.3715482\ttotal: 8.58s\tremaining: 9.93s\n",
      "139:\tlearn: 0.3714514\ttotal: 8.62s\tremaining: 9.85s\n",
      "140:\tlearn: 0.3714039\ttotal: 8.66s\tremaining: 9.76s\n",
      "141:\tlearn: 0.3712727\ttotal: 8.7s\tremaining: 9.68s\n",
      "142:\tlearn: 0.3711308\ttotal: 8.75s\tremaining: 9.6s\n",
      "143:\tlearn: 0.3710830\ttotal: 8.79s\tremaining: 9.52s\n",
      "144:\tlearn: 0.3709858\ttotal: 8.83s\tremaining: 9.44s\n",
      "145:\tlearn: 0.3708916\ttotal: 8.88s\tremaining: 9.36s\n",
      "146:\tlearn: 0.3707973\ttotal: 8.92s\tremaining: 9.28s\n",
      "147:\tlearn: 0.3706707\ttotal: 8.96s\tremaining: 9.2s\n",
      "148:\tlearn: 0.3705779\ttotal: 9s\tremaining: 9.13s\n",
      "149:\tlearn: 0.3704365\ttotal: 9.05s\tremaining: 9.05s\n",
      "150:\tlearn: 0.3703129\ttotal: 9.09s\tremaining: 8.97s\n",
      "151:\tlearn: 0.3701686\ttotal: 9.13s\tremaining: 8.89s\n",
      "152:\tlearn: 0.3700706\ttotal: 9.17s\tremaining: 8.81s\n",
      "153:\tlearn: 0.3699915\ttotal: 9.22s\tremaining: 8.74s\n",
      "154:\tlearn: 0.3699212\ttotal: 9.26s\tremaining: 8.66s\n",
      "155:\tlearn: 0.3698829\ttotal: 9.3s\tremaining: 8.58s\n",
      "156:\tlearn: 0.3697400\ttotal: 9.35s\tremaining: 8.51s\n",
      "157:\tlearn: 0.3696553\ttotal: 9.39s\tremaining: 8.44s\n",
      "158:\tlearn: 0.3695425\ttotal: 9.43s\tremaining: 8.37s\n",
      "159:\tlearn: 0.3694677\ttotal: 9.48s\tremaining: 8.29s\n",
      "160:\tlearn: 0.3693725\ttotal: 9.52s\tremaining: 8.22s\n",
      "161:\tlearn: 0.3692477\ttotal: 9.56s\tremaining: 8.14s\n"
     ]
    },
    {
     "name": "stdout",
     "output_type": "stream",
     "text": [
      "162:\tlearn: 0.3691213\ttotal: 9.61s\tremaining: 8.07s\n",
      "163:\tlearn: 0.3690030\ttotal: 9.65s\tremaining: 8s\n",
      "164:\tlearn: 0.3689160\ttotal: 9.69s\tremaining: 7.93s\n",
      "165:\tlearn: 0.3688122\ttotal: 9.74s\tremaining: 7.86s\n",
      "166:\tlearn: 0.3687247\ttotal: 9.78s\tremaining: 7.79s\n",
      "167:\tlearn: 0.3686370\ttotal: 9.82s\tremaining: 7.72s\n",
      "168:\tlearn: 0.3685266\ttotal: 9.87s\tremaining: 7.65s\n",
      "169:\tlearn: 0.3684179\ttotal: 9.91s\tremaining: 7.58s\n",
      "170:\tlearn: 0.3683429\ttotal: 9.95s\tremaining: 7.51s\n",
      "171:\tlearn: 0.3682362\ttotal: 10s\tremaining: 7.44s\n",
      "172:\tlearn: 0.3681314\ttotal: 10s\tremaining: 7.37s\n",
      "173:\tlearn: 0.3680431\ttotal: 10.1s\tremaining: 7.3s\n",
      "174:\tlearn: 0.3679134\ttotal: 10.1s\tremaining: 7.23s\n",
      "175:\tlearn: 0.3677369\ttotal: 10.2s\tremaining: 7.17s\n",
      "176:\tlearn: 0.3675841\ttotal: 10.2s\tremaining: 7.1s\n",
      "177:\tlearn: 0.3675104\ttotal: 10.3s\tremaining: 7.03s\n",
      "178:\tlearn: 0.3674118\ttotal: 10.3s\tremaining: 6.97s\n",
      "179:\tlearn: 0.3672795\ttotal: 10.4s\tremaining: 6.9s\n",
      "180:\tlearn: 0.3671834\ttotal: 10.4s\tremaining: 6.83s\n",
      "181:\tlearn: 0.3671028\ttotal: 10.4s\tremaining: 6.77s\n",
      "182:\tlearn: 0.3669882\ttotal: 10.5s\tremaining: 6.71s\n",
      "183:\tlearn: 0.3668953\ttotal: 10.5s\tremaining: 6.64s\n",
      "184:\tlearn: 0.3667986\ttotal: 10.6s\tremaining: 6.57s\n",
      "185:\tlearn: 0.3666809\ttotal: 10.6s\tremaining: 6.51s\n",
      "186:\tlearn: 0.3665916\ttotal: 10.7s\tremaining: 6.45s\n",
      "187:\tlearn: 0.3665091\ttotal: 10.7s\tremaining: 6.38s\n",
      "188:\tlearn: 0.3664221\ttotal: 10.8s\tremaining: 6.32s\n",
      "189:\tlearn: 0.3663012\ttotal: 10.8s\tremaining: 6.25s\n",
      "190:\tlearn: 0.3662186\ttotal: 10.8s\tremaining: 6.19s\n",
      "191:\tlearn: 0.3660930\ttotal: 10.9s\tremaining: 6.13s\n",
      "192:\tlearn: 0.3659888\ttotal: 10.9s\tremaining: 6.06s\n",
      "193:\tlearn: 0.3658770\ttotal: 11s\tremaining: 6s\n",
      "194:\tlearn: 0.3657731\ttotal: 11s\tremaining: 5.93s\n",
      "195:\tlearn: 0.3656877\ttotal: 11.1s\tremaining: 5.87s\n",
      "196:\tlearn: 0.3655487\ttotal: 11.1s\tremaining: 5.81s\n",
      "197:\tlearn: 0.3654080\ttotal: 11.2s\tremaining: 5.76s\n",
      "198:\tlearn: 0.3653248\ttotal: 11.2s\tremaining: 5.7s\n",
      "199:\tlearn: 0.3652532\ttotal: 11.3s\tremaining: 5.64s\n",
      "200:\tlearn: 0.3652004\ttotal: 11.3s\tremaining: 5.58s\n",
      "201:\tlearn: 0.3650415\ttotal: 11.4s\tremaining: 5.53s\n",
      "202:\tlearn: 0.3649335\ttotal: 11.5s\tremaining: 5.47s\n",
      "203:\tlearn: 0.3648154\ttotal: 11.5s\tremaining: 5.42s\n",
      "204:\tlearn: 0.3647612\ttotal: 11.6s\tremaining: 5.36s\n",
      "205:\tlearn: 0.3646939\ttotal: 11.6s\tremaining: 5.3s\n",
      "206:\tlearn: 0.3646026\ttotal: 11.7s\tremaining: 5.24s\n",
      "207:\tlearn: 0.3645113\ttotal: 11.7s\tremaining: 5.18s\n",
      "208:\tlearn: 0.3644623\ttotal: 11.8s\tremaining: 5.13s\n",
      "209:\tlearn: 0.3642678\ttotal: 11.8s\tremaining: 5.07s\n",
      "210:\tlearn: 0.3642005\ttotal: 11.9s\tremaining: 5.01s\n",
      "211:\tlearn: 0.3640790\ttotal: 11.9s\tremaining: 4.95s\n",
      "212:\tlearn: 0.3639447\ttotal: 12s\tremaining: 4.9s\n",
      "213:\tlearn: 0.3638624\ttotal: 12.1s\tremaining: 4.84s\n",
      "214:\tlearn: 0.3637959\ttotal: 12.1s\tremaining: 4.78s\n",
      "215:\tlearn: 0.3637063\ttotal: 12.1s\tremaining: 4.72s\n",
      "216:\tlearn: 0.3636183\ttotal: 12.2s\tremaining: 4.68s\n",
      "217:\tlearn: 0.3635242\ttotal: 12.3s\tremaining: 4.63s\n",
      "218:\tlearn: 0.3634903\ttotal: 12.3s\tremaining: 4.57s\n",
      "219:\tlearn: 0.3634203\ttotal: 12.4s\tremaining: 4.51s\n",
      "220:\tlearn: 0.3633118\ttotal: 12.5s\tremaining: 4.46s\n",
      "221:\tlearn: 0.3632088\ttotal: 12.6s\tremaining: 4.41s\n",
      "222:\tlearn: 0.3631204\ttotal: 12.6s\tremaining: 4.36s\n",
      "223:\tlearn: 0.3630493\ttotal: 12.7s\tremaining: 4.3s\n",
      "224:\tlearn: 0.3629694\ttotal: 12.7s\tremaining: 4.25s\n",
      "225:\tlearn: 0.3628920\ttotal: 12.8s\tremaining: 4.19s\n",
      "226:\tlearn: 0.3628308\ttotal: 12.9s\tremaining: 4.14s\n",
      "227:\tlearn: 0.3627384\ttotal: 12.9s\tremaining: 4.09s\n",
      "228:\tlearn: 0.3627041\ttotal: 13s\tremaining: 4.03s\n",
      "229:\tlearn: 0.3626306\ttotal: 13.1s\tremaining: 3.98s\n",
      "230:\tlearn: 0.3625204\ttotal: 13.1s\tremaining: 3.92s\n",
      "231:\tlearn: 0.3624390\ttotal: 13.2s\tremaining: 3.86s\n",
      "232:\tlearn: 0.3623457\ttotal: 13.2s\tremaining: 3.8s\n",
      "233:\tlearn: 0.3622407\ttotal: 13.3s\tremaining: 3.75s\n",
      "234:\tlearn: 0.3621380\ttotal: 13.3s\tremaining: 3.69s\n",
      "235:\tlearn: 0.3620649\ttotal: 13.4s\tremaining: 3.63s\n",
      "236:\tlearn: 0.3619754\ttotal: 13.4s\tremaining: 3.56s\n",
      "237:\tlearn: 0.3618924\ttotal: 13.5s\tremaining: 3.5s\n",
      "238:\tlearn: 0.3617853\ttotal: 13.5s\tremaining: 3.45s\n",
      "239:\tlearn: 0.3617017\ttotal: 13.5s\tremaining: 3.38s\n",
      "240:\tlearn: 0.3616302\ttotal: 13.6s\tremaining: 3.33s\n",
      "241:\tlearn: 0.3615085\ttotal: 13.7s\tremaining: 3.27s\n",
      "242:\tlearn: 0.3614313\ttotal: 13.7s\tremaining: 3.21s\n",
      "243:\tlearn: 0.3613162\ttotal: 13.8s\tremaining: 3.16s\n",
      "244:\tlearn: 0.3612338\ttotal: 13.8s\tremaining: 3.1s\n",
      "245:\tlearn: 0.3611502\ttotal: 13.9s\tremaining: 3.05s\n",
      "246:\tlearn: 0.3610637\ttotal: 13.9s\tremaining: 2.99s\n",
      "247:\tlearn: 0.3609747\ttotal: 14s\tremaining: 2.93s\n",
      "248:\tlearn: 0.3608368\ttotal: 14.1s\tremaining: 2.88s\n",
      "249:\tlearn: 0.3607367\ttotal: 14.1s\tremaining: 2.82s\n",
      "250:\tlearn: 0.3606567\ttotal: 14.2s\tremaining: 2.76s\n",
      "251:\tlearn: 0.3605734\ttotal: 14.2s\tremaining: 2.71s\n",
      "252:\tlearn: 0.3604822\ttotal: 14.3s\tremaining: 2.65s\n",
      "253:\tlearn: 0.3604306\ttotal: 14.3s\tremaining: 2.59s\n",
      "254:\tlearn: 0.3603035\ttotal: 14.4s\tremaining: 2.53s\n",
      "255:\tlearn: 0.3602523\ttotal: 14.4s\tremaining: 2.48s\n",
      "256:\tlearn: 0.3601331\ttotal: 14.5s\tremaining: 2.42s\n",
      "257:\tlearn: 0.3600495\ttotal: 14.5s\tremaining: 2.36s\n",
      "258:\tlearn: 0.3599761\ttotal: 14.6s\tremaining: 2.31s\n",
      "259:\tlearn: 0.3598855\ttotal: 14.6s\tremaining: 2.25s\n",
      "260:\tlearn: 0.3597795\ttotal: 14.7s\tremaining: 2.19s\n",
      "261:\tlearn: 0.3596831\ttotal: 14.7s\tremaining: 2.14s\n",
      "262:\tlearn: 0.3595930\ttotal: 14.8s\tremaining: 2.08s\n",
      "263:\tlearn: 0.3594769\ttotal: 14.9s\tremaining: 2.03s\n",
      "264:\tlearn: 0.3593688\ttotal: 14.9s\tremaining: 1.97s\n",
      "265:\tlearn: 0.3592913\ttotal: 15s\tremaining: 1.92s\n",
      "266:\tlearn: 0.3592137\ttotal: 15s\tremaining: 1.86s\n",
      "267:\tlearn: 0.3591278\ttotal: 15.1s\tremaining: 1.8s\n",
      "268:\tlearn: 0.3589667\ttotal: 15.2s\tremaining: 1.75s\n",
      "269:\tlearn: 0.3588514\ttotal: 15.2s\tremaining: 1.69s\n",
      "270:\tlearn: 0.3587057\ttotal: 15.3s\tremaining: 1.63s\n",
      "271:\tlearn: 0.3586325\ttotal: 15.4s\tremaining: 1.58s\n",
      "272:\tlearn: 0.3585903\ttotal: 15.5s\tremaining: 1.53s\n",
      "273:\tlearn: 0.3585198\ttotal: 15.5s\tremaining: 1.48s\n",
      "274:\tlearn: 0.3584598\ttotal: 15.6s\tremaining: 1.42s\n",
      "275:\tlearn: 0.3583580\ttotal: 15.6s\tremaining: 1.36s\n",
      "276:\tlearn: 0.3582688\ttotal: 15.7s\tremaining: 1.3s\n",
      "277:\tlearn: 0.3581842\ttotal: 15.8s\tremaining: 1.25s\n",
      "278:\tlearn: 0.3581089\ttotal: 15.8s\tremaining: 1.19s\n",
      "279:\tlearn: 0.3580082\ttotal: 15.9s\tremaining: 1.13s\n",
      "280:\tlearn: 0.3578828\ttotal: 15.9s\tremaining: 1.07s\n",
      "281:\tlearn: 0.3577723\ttotal: 15.9s\tremaining: 1.02s\n",
      "282:\tlearn: 0.3576813\ttotal: 16s\tremaining: 960ms\n",
      "283:\tlearn: 0.3575746\ttotal: 16s\tremaining: 904ms\n",
      "284:\tlearn: 0.3575315\ttotal: 16.1s\tremaining: 846ms\n",
      "285:\tlearn: 0.3574541\ttotal: 16.1s\tremaining: 789ms\n",
      "286:\tlearn: 0.3573775\ttotal: 16.2s\tremaining: 732ms\n",
      "287:\tlearn: 0.3572973\ttotal: 16.2s\tremaining: 675ms\n",
      "288:\tlearn: 0.3572273\ttotal: 16.3s\tremaining: 619ms\n",
      "289:\tlearn: 0.3571388\ttotal: 16.3s\tremaining: 563ms\n",
      "290:\tlearn: 0.3570432\ttotal: 16.4s\tremaining: 507ms\n",
      "291:\tlearn: 0.3569733\ttotal: 16.4s\tremaining: 450ms\n",
      "292:\tlearn: 0.3568792\ttotal: 16.5s\tremaining: 394ms\n",
      "293:\tlearn: 0.3567864\ttotal: 16.6s\tremaining: 338ms\n",
      "294:\tlearn: 0.3566602\ttotal: 16.6s\tremaining: 281ms\n",
      "295:\tlearn: 0.3565668\ttotal: 16.6s\tremaining: 225ms\n",
      "296:\tlearn: 0.3564629\ttotal: 16.7s\tremaining: 169ms\n",
      "297:\tlearn: 0.3563542\ttotal: 16.8s\tremaining: 113ms\n",
      "298:\tlearn: 0.3562760\ttotal: 16.8s\tremaining: 56.2ms\n",
      "299:\tlearn: 0.3561587\ttotal: 16.9s\tremaining: 0us\n"
     ]
    }
   ],
   "source": [
    "pipe_best_estimator.fit(X_tr,y_tr);"
   ]
  },
  {
   "cell_type": "code",
   "execution_count": 20,
   "metadata": {},
   "outputs": [
    {
     "name": "stdout",
     "output_type": "stream",
     "text": [
      "The AUC of the gradient boosting algorithm in train is 0.81\n",
      "The AUC of the gradient boosting algorithm in test is 0.74\n"
     ]
    }
   ],
   "source": [
    "print('The AUC of the gradient boosting algorithm in train is',\n",
    "      np.round(auc_score(y_tr,pipe_best_estimator.predict_proba(X_tr)),decimals=2))\n",
    "\n",
    "print('The AUC of the gradient boosting algorithm in test is',\n",
    "      np.round(auc_score(y_te,pipe_best_estimator.predict_proba(X_te)),decimals=2))"
   ]
  },
  {
   "cell_type": "code",
   "execution_count": 21,
   "metadata": {},
   "outputs": [
    {
     "name": "stdout",
     "output_type": "stream",
     "text": [
      "The f1-score of the gradient boosting algorithm in train is 0.29\n",
      "The f1-score of the gradient boosting algorithm in test is 0.266\n"
     ]
    }
   ],
   "source": [
    "score_train = f1_score(y_tr,pipe_best_estimator.predict(X_tr))\n",
    "scorte_test = f1_score(y_te,pipe_best_estimator.predict(X_te))\n",
    "\n",
    "print('The f1-score of the gradient boosting algorithm in train is',\n",
    "      np.round((score_train),decimals=3))\n",
    "\n",
    "print('The f1-score of the gradient boosting algorithm in test is',\n",
    "      np.round((scorte_test),decimals=3))"
   ]
  },
  {
   "cell_type": "code",
   "execution_count": 25,
   "metadata": {
    "scrolled": true
   },
   "outputs": [
    {
     "name": "stdout",
     "output_type": "stream",
     "text": [
      "78 features, reduction of 0.00%\n"
     ]
    },
    {
     "data": {
      "image/png": "[encoded data removed]",
      "text/plain": [
       "<Figure size 1296x432 with 1 Axes>"
      ]
     },
     "metadata": {},
     "output_type": "display_data"
    }
   ],
   "source": [
    "plot_feature_importance(pipe_best_estimator[:-1].transform(X_tr).columns,\n",
    "                        pipe_best_estimator.named_steps['cb'].get_feature_importance(),10)"
   ]
  },
  {
   "cell_type": "markdown",
   "metadata": {},
   "source": [
    "The best features are composition of vehicles, manouvers and collision points."
   ]
  },
  {
   "cell_type": "code",
   "execution_count": 23,
   "metadata": {
    "scrolled": true
   },
   "outputs": [
    {
     "name": "stdout",
     "output_type": "stream",
     "text": [
      "CPU times: user 34.5 s, sys: 3.27 s, total: 37.8 s\n",
      "Wall time: 31.1 s\n"
     ]
    }
   ],
   "source": [
    "%%time\n",
    "max_f1 = 0\n",
    "for thres in np.linspace(0.1,0.4,10):\n",
    "    pred = pipe_best_estimator.predict_proba(X_tr)[:,1]>thres\n",
    "    f1 = f1_score(y_tr,pred)\n",
    "    #print(f1)    \n",
    "    if f1 > max_f1:\n",
    "        max_f1=f1\n",
    "        cutoff = thres"
   ]
  },
  {
   "cell_type": "code",
   "execution_count": 24,
   "metadata": {},
   "outputs": [
    {
     "name": "stdout",
     "output_type": "stream",
     "text": [
      "The score of the gradient boosting algorithm in train is 0.4969\n",
      "The score of the gradient boosting algorithm in test is 0.4414\n"
     ]
    }
   ],
   "source": [
    "score_train = f1_score(y_tr,pipe_best_estimator.predict_proba(X_tr)[:,1]>cutoff)\n",
    "scorte_test = f1_score(y_te,pipe_best_estimator.predict_proba(X_te)[:,1]>cutoff)\n",
    "\n",
    "print('The score of the gradient boosting algorithm in train is',\n",
    "      np.round((score_train),decimals=4))\n",
    "\n",
    "print('The score of the gradient boosting algorithm in test is',\n",
    "      np.round((scorte_test),decimals=4))"
   ]
  },
  {
   "cell_type": "markdown",
   "metadata": {},
   "source": [
    "We improve the results significally"
   ]
  },
  {
   "cell_type": "markdown",
   "metadata": {},
   "source": [
    "# XGB "
   ]
  },
  {
   "cell_type": "markdown",
   "metadata": {},
   "source": [
    "Thought it doesnt increase performance we used this famous model to validate high accuracy results"
   ]
  },
  {
   "cell_type": "markdown",
   "metadata": {},
   "source": [
    "target = Encodings(encoding_type=\"TargetEncoder\",columns=cols_enc)\n",
    "woe = Encodings(encoding_type=\"WOEEncoder\",columns=cols_enc)\n",
    "cbe = Encodings(encoding_type=\"CatBoostEncoder\",columns=cols_enc)\n",
    "xgb = XGBClassifier()\n",
    "\n",
    "encodings = Pipeline([\n",
    "                     ('te',target),\n",
    "                         ])\n",
    "\n",
    "pipe_cb = Pipeline([ ('encodings',encodings),             # Encoding of Categorical Variables\n",
    "                 ('selector', TypeSelector(np.number)), # Selects Numerical Columns only\n",
    "                    ('xgb',xgb)\n",
    "                   ])\n",
    "\n",
    "pipeline_grid = {\n",
    "    \n",
    "        'xgb__min_child_weight': [1, 10],\n",
    "        'xgb__gamma': [0.5, 5],\n",
    "        'xgb__subsample': [0.6,  1.0],\n",
    "        'xgb__colsample_bytree': [0.6, 1.0],\n",
    "        'xgb__max_depth': [3,  5]\n",
    "        }"
   ]
  },
  {
   "cell_type": "code",
   "execution_count": null,
   "metadata": {},
   "outputs": [],
   "source": [
    "# Execution Hyperparameters\n",
    "n_jobs=-1\n",
    "cv = 3\n",
    "n_max= int(X_tr.shape[0]/10)\n",
    "pipe_cv = GridSearchCV(pipe_cb, param_grid=pipeline_grid, n_jobs = n_jobs, cv=cv,scoring='roc_auc')\n"
   ]
  },
  {
   "cell_type": "code",
   "execution_count": null,
   "metadata": {
    "scrolled": true
   },
   "outputs": [],
   "source": [
    "%%time\n",
    "pipe_cv, pipe_best_estimator  = fit_cv_subsample(pipe_cv, X_tr, y_tr, n_max = n_max);\n",
    "pipe_best_estimator.fit(X_tr,y_tr);"
   ]
  },
  {
   "cell_type": "code",
   "execution_count": null,
   "metadata": {},
   "outputs": [],
   "source": [
    "print('The AUC of the gradient boosting algorithm in train is',\n",
    "      np.round(auc_score(y_tr,pipe_best_estimator.predict_proba(X_tr)),decimals=2))\n",
    "\n",
    "print('The AUC of the gradient boosting algorithm in test is',\n",
    "      np.round(auc_score(y_te,pipe_best_estimator.predict_proba(X_te)),decimals=2))"
   ]
  },
  {
   "cell_type": "code",
   "execution_count": null,
   "metadata": {},
   "outputs": [],
   "source": [
    "score_train = f1_score(y_tr,pipe_best_estimator.predict(X_tr))\n",
    "scorte_test = f1_score(y_te,pipe_best_estimator.predict(X_te))\n",
    "\n",
    "print('The f1-score of the gradient boosting algorithm in train is',\n",
    "      np.round((score_train),decimals=3))\n",
    "\n",
    "print('The f1-score of the gradient boosting algorithm in test is',\n",
    "      np.round((scorte_test),decimals=3))"
   ]
  },
  {
   "cell_type": "code",
   "execution_count": null,
   "metadata": {
    "scrolled": true
   },
   "outputs": [],
   "source": [
    "plot_feature_importance(pipe_best_estimator[:-1].transform(X_tr).columns,\n",
    "                        pipe_best_estimator.named_steps['xgb'].feature_importances_,20)"
   ]
  },
  {
   "cell_type": "code",
   "execution_count": null,
   "metadata": {
    "scrolled": true
   },
   "outputs": [],
   "source": [
    "%%time\n",
    "max_f1 = 0\n",
    "for thres in np.linspace(0.1,0.4,10):\n",
    "    pred = pipe_best_estimator.predict_proba(X_tr)[:,1]>thres\n",
    "    f1 = f1_score(y_tr,pred)\n",
    "    #print(f1)    \n",
    "    if f1 > max_f1:\n",
    "        max_f1=f1\n",
    "        cutoff = thres"
   ]
  },
  {
   "cell_type": "code",
   "execution_count": null,
   "metadata": {},
   "outputs": [],
   "source": [
    "score_train = f1_score(y_tr,pipe_best_estimator.predict_proba(X_tr)[:,1]>cutoff)\n",
    "scorte_test = f1_score(y_te,pipe_best_estimator.predict_proba(X_te)[:,1]>cutoff)\n",
    "\n",
    "print('The score of the gradient boosting algorithm in train is',\n",
    "      np.round((score_train),decimals=4))\n",
    "\n",
    "print('The score of the gradient boosting algorithm in test is',\n",
    "      np.round((scorte_test),decimals=4))"
   ]
  },
  {
   "cell_type": "markdown",
   "metadata": {},
   "source": [
    "**Model Comparison**\n",
    "\n",
    "(https://github.com/david26694/model-comparison-training/blob/master/xaringan_presentation/ML%20Models%20Comparison.pdf)"
   ]
  },
  {
   "cell_type": "markdown",
   "metadata": {},
   "source": [
    "Given two models trained in the same dataset, we want to asses which one is better according to a given metric.\n",
    "\n",
    "Requirements:\n",
    "- We should not use test set to assess\n",
    "- We should embrace uncertainty\n",
    "\n",
    "Solutions:\n",
    "- Metrics in cross validation folds (trust your local CV)\n",
    "- Always use the same folds\n",
    "    "
   ]
  },
  {
   "cell_type": "markdown",
   "metadata": {},
   "source": [
    "We won't be doing model comparison in this assignment. It is easy to see that gradient boosting has a better performance over Lasso, but Lasso gives us an explainable model that is easy to understand and deliver bussiness insights. For a better performance several strategies could be used as avoiding the shortcuts done in the introduction. Also more models could be used to address the problem.\n",
    "\n",
    "One thing that we can notice is that the most important variables are not the same for each model. That means that the ones in gradient boosting have a nonlinear behaviour. "
   ]
  }
 ],
 "metadata": {
  "kernelspec": {
   "display_name": "Python 3",
   "language": "python",
   "name": "python3"
  },
  "language_info": {
   "codemirror_mode": {
    "name": "ipython",
    "version": 3
   },
   "file_extension": ".py",
   "mimetype": "text/x-python",
   "name": "python",
   "nbconvert_exporter": "python",
   "pygments_lexer": "ipython3",
   "version": "3.6.8"
  }
 },
 "nbformat": 4,
 "nbformat_minor": 2
}
